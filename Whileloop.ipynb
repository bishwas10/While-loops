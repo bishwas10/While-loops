{
 "cells": [
  {
   "cell_type": "code",
   "execution_count": 3,
   "id": "3e6eb868-8f40-4eae-be17-00e00b8395c6",
   "metadata": {},
   "outputs": [
    {
     "name": "stdout",
     "output_type": "stream",
     "text": [
      "Bishwas 1\n",
      "Bishwas 2\n",
      "Bishwas 3\n",
      "Bishwas 4\n",
      "Bishwas 5\n"
     ]
    }
   ],
   "source": [
    "i = 1\n",
    "while i <=5:\n",
    "    print(\"Bishwas\",i)\n",
    "    i+=1"
   ]
  },
  {
   "cell_type": "code",
   "execution_count": 4,
   "id": "1b7f2785-291e-4a0a-b685-e8b0be7ce5de",
   "metadata": {},
   "outputs": [],
   "source": [
    "# print numbersfor 1 to 5\n"
   ]
  },
  {
   "cell_type": "code",
   "execution_count": 5,
   "id": "35fb062e-86c6-41cb-b223-13e277301b08",
   "metadata": {},
   "outputs": [
    {
     "name": "stdout",
     "output_type": "stream",
     "text": [
      "1\n",
      "2\n",
      "3\n",
      "4\n",
      "5\n"
     ]
    }
   ],
   "source": [
    "i =1\n",
    "while i <=5:\n",
    "    print(i)\n",
    "    i += 1"
   ]
  },
  {
   "cell_type": "code",
   "execution_count": 6,
   "id": "dec8202e-25de-4f08-9b12-8f01caf11b08",
   "metadata": {},
   "outputs": [
    {
     "name": "stdout",
     "output_type": "stream",
     "text": [
      "1\n",
      "2\n",
      "3\n",
      "4\n",
      "5\n",
      "6\n",
      "7\n",
      "8\n",
      "9\n",
      "10\n",
      "11\n",
      "12\n",
      "13\n",
      "14\n",
      "15\n",
      "16\n",
      "17\n",
      "18\n",
      "19\n",
      "20\n",
      "21\n",
      "22\n",
      "23\n",
      "24\n",
      "25\n",
      "26\n",
      "27\n",
      "28\n",
      "29\n",
      "30\n",
      "31\n",
      "32\n",
      "33\n",
      "34\n",
      "35\n",
      "36\n",
      "37\n",
      "38\n",
      "39\n",
      "40\n",
      "41\n",
      "42\n",
      "43\n",
      "44\n",
      "45\n",
      "46\n",
      "47\n",
      "48\n",
      "49\n",
      "50\n",
      "51\n",
      "52\n",
      "53\n",
      "54\n",
      "55\n",
      "56\n",
      "57\n",
      "58\n",
      "59\n",
      "60\n",
      "61\n",
      "62\n",
      "63\n",
      "64\n",
      "65\n",
      "66\n",
      "67\n",
      "68\n",
      "69\n",
      "70\n",
      "71\n",
      "72\n",
      "73\n",
      "74\n",
      "75\n",
      "76\n",
      "77\n",
      "78\n",
      "79\n",
      "80\n",
      "81\n",
      "82\n",
      "83\n",
      "84\n",
      "85\n",
      "86\n",
      "87\n",
      "88\n",
      "89\n",
      "90\n",
      "91\n",
      "92\n",
      "93\n",
      "94\n",
      "95\n",
      "96\n",
      "97\n",
      "98\n",
      "99\n",
      "100\n"
     ]
    }
   ],
   "source": [
    "i = 1\n",
    "while i <=100:\n",
    "    print(i)\n",
    "    i += 1"
   ]
  },
  {
   "cell_type": "code",
   "execution_count": 7,
   "id": "3a8bb158-eca2-48f0-b796-6841edfec056",
   "metadata": {},
   "outputs": [],
   "source": [
    "# print numbers from 100 to 1"
   ]
  },
  {
   "cell_type": "code",
   "execution_count": 10,
   "id": "71fab33b-bac9-40ac-94e5-65f8a496fcff",
   "metadata": {},
   "outputs": [
    {
     "name": "stdout",
     "output_type": "stream",
     "text": [
      "100\n",
      "99\n",
      "98\n",
      "97\n",
      "96\n",
      "95\n",
      "94\n",
      "93\n",
      "92\n",
      "91\n",
      "90\n",
      "89\n",
      "88\n",
      "87\n",
      "86\n",
      "85\n",
      "84\n",
      "83\n",
      "82\n",
      "81\n",
      "80\n",
      "79\n",
      "78\n",
      "77\n",
      "76\n",
      "75\n",
      "74\n",
      "73\n",
      "72\n",
      "71\n",
      "70\n",
      "69\n",
      "68\n",
      "67\n",
      "66\n",
      "65\n",
      "64\n",
      "63\n",
      "62\n",
      "61\n",
      "60\n",
      "59\n",
      "58\n",
      "57\n",
      "56\n",
      "55\n",
      "54\n",
      "53\n",
      "52\n",
      "51\n",
      "50\n",
      "49\n",
      "48\n",
      "47\n",
      "46\n",
      "45\n",
      "44\n",
      "43\n",
      "42\n",
      "41\n",
      "40\n",
      "39\n",
      "38\n",
      "37\n",
      "36\n",
      "35\n",
      "34\n",
      "33\n",
      "32\n",
      "31\n",
      "30\n",
      "29\n",
      "28\n",
      "27\n",
      "26\n",
      "25\n",
      "24\n",
      "23\n",
      "22\n",
      "21\n",
      "20\n",
      "19\n",
      "18\n",
      "17\n",
      "16\n",
      "15\n",
      "14\n",
      "13\n",
      "12\n",
      "11\n",
      "10\n",
      "9\n",
      "8\n",
      "7\n",
      "6\n",
      "5\n",
      "4\n",
      "3\n",
      "2\n",
      "1\n"
     ]
    }
   ],
   "source": [
    "i= 100\n",
    "while i >=1:\n",
    "    print(i)\n",
    "    i -= 1"
   ]
  },
  {
   "cell_type": "code",
   "execution_count": 11,
   "id": "4c02c3c3-aef9-4dc9-bd63-77422e31a26b",
   "metadata": {},
   "outputs": [],
   "source": [
    "# print the multiplicatio table of a number n"
   ]
  },
  {
   "cell_type": "code",
   "execution_count": 13,
   "id": "b4c72dca-3bf3-44f5-a06e-a58b2072186e",
   "metadata": {},
   "outputs": [
    {
     "name": "stdout",
     "output_type": "stream",
     "text": [
      "3\n",
      "6\n",
      "9\n",
      "12\n",
      "15\n",
      "18\n",
      "21\n",
      "24\n",
      "27\n",
      "30\n"
     ]
    }
   ],
   "source": [
    "i =1\n",
    "while i <=10:\n",
    "    print(3*i)\n",
    "    i+=1"
   ]
  },
  {
   "cell_type": "code",
   "execution_count": 14,
   "id": "56df6d51-494c-40f3-b10d-addcaaaf56fc",
   "metadata": {},
   "outputs": [],
   "source": [
    "# print the elements of the list by using loop"
   ]
  },
  {
   "cell_type": "code",
   "execution_count": 16,
   "id": "52ee575d-9fd8-43c1-9d38-04ff06753dee",
   "metadata": {},
   "outputs": [
    {
     "name": "stdout",
     "output_type": "stream",
     "text": [
      "1\n",
      "4\n",
      "9\n",
      "16\n",
      "25\n",
      "36\n",
      "49\n",
      "81\n",
      "100\n"
     ]
    }
   ],
   "source": [
    "nums = [1,4,9,16,25,36,49,81,100]\n",
    "index = 0\n",
    "while index < len(nums):\n",
    "    print (nums[index])\n",
    "    index +=1"
   ]
  },
  {
   "cell_type": "code",
   "execution_count": 18,
   "id": "cdcdf8ae-da3e-4261-9420-fa133255a9e7",
   "metadata": {},
   "outputs": [],
   "source": [
    "# Search for a number x in this tuple using loop:\n",
    " #(1,4,9,16,36,49,64,81,100)\n"
   ]
  },
  {
   "cell_type": "code",
   "execution_count": 21,
   "id": "1a1ee3fd-c297-487b-a134-db42371dd895",
   "metadata": {},
   "outputs": [
    {
     "name": "stdout",
     "output_type": "stream",
     "text": [
      "Found at index 5\n"
     ]
    }
   ],
   "source": [
    "nums = (1,4,9,16,25,36,49,64,81,100)\n",
    "x =36\n",
    "i =0\n",
    "while i < len(nums):\n",
    "    if (nums[i]== x):\n",
    "        print (\"Found at index\",i)\n",
    "    i += 1"
   ]
  },
  {
   "cell_type": "code",
   "execution_count": 22,
   "id": "f1aab64d-824f-445c-bee8-e643c721e76d",
   "metadata": {},
   "outputs": [],
   "source": [
    " # break and continue\n",
    "# break used to terminate the loop when encountered"
   ]
  },
  {
   "cell_type": "code",
   "execution_count": 24,
   "id": "dafac22a-1d36-4bd0-85f4-4773ad78a319",
   "metadata": {},
   "outputs": [
    {
     "name": "stdout",
     "output_type": "stream",
     "text": [
      "1\n",
      "2\n",
      "3\n",
      "End of loop\n"
     ]
    }
   ],
   "source": [
    "i =1\n",
    "while i <=5:\n",
    "    print(i)\n",
    "    if (i==3):\n",
    "        break\n",
    "    i += 1 \n",
    "print(\"End of loop\")"
   ]
  },
  {
   "cell_type": "code",
   "execution_count": 25,
   "id": "aee48210-a43a-4bb8-9a01-a384f0307439",
   "metadata": {},
   "outputs": [],
   "source": [
    "# continue : terminates execution in the current iteration and continues execution of the loop with the next iteration.\n"
   ]
  },
  {
   "cell_type": "code",
   "execution_count": 28,
   "id": "1b3aeac3-2d01-44d6-9fd8-71a95b6217e7",
   "metadata": {},
   "outputs": [
    {
     "name": "stdout",
     "output_type": "stream",
     "text": [
      "0\n",
      "1\n",
      "2\n",
      "4\n",
      "5\n"
     ]
    }
   ],
   "source": [
    " i = 0\n",
    "while i <=5:\n",
    "    if (i ==3):\n",
    "        i += 1\n",
    "        continue #skip\n",
    "        \n",
    "    print(i)\n",
    "    i+=1 "
   ]
  },
  {
   "cell_type": "code",
   "execution_count": null,
   "id": "b97168d8-4dac-4d9b-946a-f3a9e5429233",
   "metadata": {},
   "outputs": [],
   "source": []
  }
 ],
 "metadata": {
  "kernelspec": {
   "display_name": "Python 3 (ipykernel)",
   "language": "python",
   "name": "python3"
  },
  "language_info": {
   "codemirror_mode": {
    "name": "ipython",
    "version": 3
   },
   "file_extension": ".py",
   "mimetype": "text/x-python",
   "name": "python",
   "nbconvert_exporter": "python",
   "pygments_lexer": "ipython3",
   "version": "3.11.7"
  }
 },
 "nbformat": 4,
 "nbformat_minor": 5
}
